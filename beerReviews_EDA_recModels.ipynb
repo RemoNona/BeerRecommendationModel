{
 "cells": [
  {
   "cell_type": "markdown",
   "metadata": {},
   "source": [
    "Created by Tomer Danon\n",
    "\n",
    "This notebook walks through the exploratory data analysis and algorithms for the beer recommendation model."
   ]
  },
  {
   "cell_type": "code",
   "execution_count": null,
   "metadata": {},
   "outputs": [],
   "source": [
    "from plotly.subplots import make_subplots\n",
    "import plotly.graph_objects as go\n",
    "import plotly.express as px\n",
    "import pandas as pd\n",
    "import pickle\n"
   ]
  },
  {
   "cell_type": "code",
   "execution_count": null,
   "metadata": {},
   "outputs": [],
   "source": [
    "# Read files\n",
    "main = pd.read_pickle('./main.pickle')\n",
    "users = pd.read_pickle('./users.pickle')"
   ]
  },
  {
   "cell_type": "markdown",
   "metadata": {},
   "source": [
    "### Exploratory Data Analysis"
   ]
  },
  {
   "cell_type": "code",
   "execution_count": null,
   "metadata": {},
   "outputs": [],
   "source": [
    "# Print basic statistics of the dataframe\n",
    "print('Number of Reviews:   ', len(main))\n",
    "print('Number of Users:     ', len(main.review_profilename.unique()))\n",
    "print('Number of Beers:     ', len(main.beer_beerid.unique()))\n",
    "print('Number of Styles:    ', len(main.beer_style.unique()))\n",
    "print('Number of Breweries: ', len(main.brewery_name.unique()))\n"
   ]
  },
  {
   "cell_type": "code",
   "execution_count": null,
   "metadata": {},
   "outputs": [],
   "source": [
    "# Histograms of attributes.\n",
    "fig = make_subplots(rows=3, cols=2,\n",
    "                    subplot_titles=(\"Appearance Rating\", \"Aroma Rating\", \"Palate Rating\", \"Taste Rating\", \"Overall Rating\", \"Alcohol by Volume\"))\n",
    "\n",
    "fig.add_trace(\n",
    "    go.Histogram(x=main.review_appearance),\n",
    "    row=1, col=1, \n",
    ")\n",
    "fig.add_trace(\n",
    "    go.Histogram(x=main.review_aroma),\n",
    "    row=1, col=2,\n",
    ")\n",
    "fig.add_trace(\n",
    "    go.Histogram(x=main.review_palate),\n",
    "    row=2, col=1,\n",
    ")\n",
    "fig.add_trace(\n",
    "    go.Histogram(x=main.review_taste),\n",
    "    row=2, col=2,\n",
    ")\n",
    "fig.add_trace(\n",
    "    go.Histogram(x=main.review_overall),\n",
    "    row=3, col=1,\n",
    ")\n",
    "fig.add_trace(\n",
    "    go.Histogram(x=main.beer_abv),\n",
    "    row=3, col=2,\n",
    ")\n",
    "fig.update_layout(height=1000, width=600, showlegend=False)\n",
    "fig.show()\n",
    "fig.write_html('./atts_distributions.html')\n",
    "fig.write_image('./atts_distributions.png')"
   ]
  },
  {
   "cell_type": "code",
   "execution_count": null,
   "metadata": {},
   "outputs": [],
   "source": [
    "# Pie chart of top 10 style, rest in \"Other\"\n",
    "\n",
    "styles = main.groupby('beer_style').count()['beer_beerid'].sort_values(ascending=False)\n",
    "top10 = styles[:10]\n",
    "pie = pd.concat( [top10, pd.Series(styles[10:].sum())] ).rename({0:'94 Other Styles'})\n",
    "\n",
    "fig = px.pie(\n",
    "    pie,\n",
    "    values=pie.values,\n",
    "    names=pie.index,\n",
    "    title=\"Top 10 Styles\")\n",
    "fig.update_traces(textposition='inside', textinfo='percent+label')\n",
    "fig.update_layout(height=1000, width=1000)\n",
    "fig.show()\n",
    "fig.write_html('./top10styles.html')\n",
    "fig.write_image('./top10styles.png')"
   ]
  },
  {
   "cell_type": "code",
   "execution_count": null,
   "metadata": {},
   "outputs": [],
   "source": [
    "# Beers per style\n",
    "main.groupby('beer_style').count().iloc[:,0].sort_values(ascending=False)\n"
   ]
  },
  {
   "cell_type": "code",
   "execution_count": null,
   "metadata": {},
   "outputs": [],
   "source": [
    "# Reviews per beers per brewery / Most reviewed breweries\n",
    "main.groupby('brewery_name').count().iloc[:,0].sort_values(ascending=False)"
   ]
  },
  {
   "cell_type": "code",
   "execution_count": null,
   "metadata": {},
   "outputs": [],
   "source": [
    "# Top users\n",
    "users['num_reviews'].sort_values(ascending=False)[:20]"
   ]
  },
  {
   "cell_type": "code",
   "execution_count": null,
   "metadata": {},
   "outputs": [],
   "source": [
    "# Most reviewed beers\n",
    "main.groupby(['beer_beerid', 'beer_name', 'brewery_name', 'beer_style' ]).count()['brewery_id'].sort_values(ascending=False)[:10]"
   ]
  },
  {
   "cell_type": "code",
   "execution_count": null,
   "metadata": {},
   "outputs": [],
   "source": [
    "# Best rated beers\n",
    "main.groupby(['beer_beerid', 'beer_name', 'brewery_name', 'beer_style' ]).mean()['review_overall'].sort_values(ascending=False)[:50]"
   ]
  },
  {
   "cell_type": "code",
   "execution_count": null,
   "metadata": {},
   "outputs": [],
   "source": [
    "users.head()"
   ]
  },
  {
   "cell_type": "markdown",
   "metadata": {},
   "source": [
    "### Recommend beers of specific style"
   ]
  },
  {
   "cell_type": "code",
   "execution_count": null,
   "metadata": {},
   "outputs": [],
   "source": [
    "# Beer styles to choose from\n",
    "main.beer_style.unique()"
   ]
  },
  {
   "cell_type": "code",
   "execution_count": null,
   "metadata": {},
   "outputs": [],
   "source": [
    "def recStyle(styles, rating=4.25, topX=10):\n",
    "    '''\n",
    "    Function to provide beer recommendations based on style preferences.\n",
    "    Accepts a list/set of styles, custom rating threshold, and \n",
    "    number of recommendations threshold.\n",
    "    Function prints out list of users in cluster and number of users in\n",
    "    cluster.\n",
    "    Returns dataframe of beer recommendations.\n",
    "    '''\n",
    "    # Check to see what users review these styles the most\n",
    "    # and give rating of 4.25 (or user specified) or higher.\n",
    "    styles = set(styles)\n",
    "    users_reviewed = []\n",
    "    for i in range(len(users)):\n",
    "        temp = users.iloc[i, : ]\n",
    "        name = temp.name\n",
    "        for style in styles:\n",
    "            if style in temp[1]:\n",
    "                if temp[1][style] >= rating:\n",
    "                    users_reviewed.append((name, style, temp[1][style]))\n",
    "\n",
    "    count = pd.DataFrame(users_reviewed, columns=['user', 'style', 'rating']).groupby('user').count()['style']\n",
    "\n",
    "    cluster_users = []\n",
    "    for i in count.items():\n",
    "        if i[1] == len(styles):\n",
    "            cluster_users.append(i[0])\n",
    "\n",
    "    # These are the users who gave 'rating' or higher for all of the new users preferred styles.\n",
    "    print(\"Number of users in cluster:\", len(cluster_users))\n",
    "    print(\"Users in cluster:\\n\", cluster_users)\n",
    "\n",
    "\n",
    "    # These are the beers new user should try in the preferred styles. \n",
    "    beer_to_suggest = pd.DataFrame()\n",
    "\n",
    "    for user in cluster_users:\n",
    "        temp = users.loc[user, 'user_beers']\n",
    "        df = pd.DataFrame(temp, index=['beer_beerid', 'brewery_name', 'beer_style', 'review_overall']).transpose()\n",
    "        \n",
    "        for style in styles:\n",
    "            beer_to_suggest = pd.concat([beer_to_suggest, df[ (df.beer_style==style) & (df.review_overall >= rating) ]])\n",
    "\n",
    "    beer_to_suggest['beer_name'] = beer_to_suggest.index.copy()\n",
    "    beer_to_suggest = pd.DataFrame(beer_to_suggest.groupby(['beer_beerid', 'beer_name', 'brewery_name', 'beer_style'])['review_overall'].mean().round(2))\n",
    "    beer_to_suggest = beer_to_suggest.reset_index([1,2,3]).sort_values(['review_overall'], ascending=False)\n",
    "\n",
    "    rec = pd.DataFrame()\n",
    "    for style in styles:\n",
    "\n",
    "        rec = pd.concat([rec, beer_to_suggest[ beer_to_suggest.beer_style==style ][:topX]])\n",
    "\n",
    "    return rec\n"
   ]
  },
  {
   "cell_type": "code",
   "execution_count": null,
   "metadata": {},
   "outputs": [],
   "source": [
    "# Working example\n",
    "recStyle({'Saison / Farmhouse Ale', 'American IPA', 'American Double / Imperial IPA'})\n",
    "\n",
    "# Try your own from the list above\n",
    "# recStyle({})"
   ]
  },
  {
   "cell_type": "markdown",
   "metadata": {},
   "source": [
    "### Recommend beer based on specific beers"
   ]
  },
  {
   "cell_type": "code",
   "execution_count": null,
   "metadata": {},
   "outputs": [],
   "source": [
    "# The list of beers is 66k+ long. \n",
    "# Below is is a short list of beers to choose from\n",
    "someBeers = main.groupby(['beer_name']).count()['review_overall'].sort_values(ascending=False)[50:150]\n",
    "print(someBeers.index)"
   ]
  },
  {
   "cell_type": "code",
   "execution_count": null,
   "metadata": {},
   "outputs": [],
   "source": [
    "def recBeer(beers, rating=4.25, topX=10):\n",
    "    '''\n",
    "    Function to find beer recommendations based on beer preferences.\n",
    "    Accepts list or set or beer names, as well as custom rating threshold and \n",
    "    number of recommendations threshold.\n",
    "    Function prints out list of users in cluster and number of users in\n",
    "    cluster.\n",
    "    Returns dataframe of beer recommendations.\n",
    "    '''\n",
    "    styles = []\n",
    "    for beer in beers:\n",
    "        styles.append(main[ main.beer_name==beer].iloc[0]['beer_style'])\n",
    "    styles = set(styles)\n",
    "    cluster_users = []\n",
    "\n",
    "    # Check to see what users reviewed these beers the highest\n",
    "    for user in users.user_beers.items():\n",
    "        count = 0\n",
    "        for beer in beers:\n",
    "            if beer in user[1]:\n",
    "                count += 1\n",
    "        if count == len(beers):\n",
    "            cluster_users.append(user[0])\n",
    "\n",
    "    print(\"Number of users in cluster:\", len(cluster_users))        \n",
    "    print(\"Users in cluster:\\n\", cluster_users)  \n",
    "\n",
    "    # These are the beers new user should try in the preferred styles. \n",
    "    beer_to_suggest = pd.DataFrame()\n",
    "\n",
    "    for user in cluster_users:\n",
    "        temp = users.loc[user, 'user_beers']\n",
    "        df = pd.DataFrame(temp, index=['beer_beerid', 'brewery_name', 'beer_style', 'review_overall']).transpose()\n",
    "        \n",
    "        for style in styles:\n",
    "            beer_to_suggest = pd.concat([beer_to_suggest, df[ (df.beer_style==style) & (df.review_overall >= rating) ]])\n",
    "\n",
    "    beer_to_suggest['beer_name'] = beer_to_suggest.index.copy()\n",
    "    beer_to_suggest = pd.DataFrame(beer_to_suggest.groupby(['beer_beerid', 'beer_name', 'brewery_name', 'beer_style'])['review_overall'].mean().round(2))\n",
    "    beer_to_suggest = beer_to_suggest.reset_index([1,2,3]).sort_values(['review_overall'], ascending=False)\n",
    "\n",
    "    rec = pd.DataFrame()\n",
    "    for style in styles:\n",
    "        rec = pd.concat([rec, beer_to_suggest[ beer_to_suggest.beer_style==style ][:topX]])\n",
    "\n",
    "    return rec\n",
    "\n"
   ]
  },
  {
   "cell_type": "code",
   "execution_count": null,
   "metadata": {},
   "outputs": [],
   "source": [
    "# Example\n",
    "recBeer({'Pliny The Elder', 'Heady Topper', 'Drie Fonteinen Oude Geuze', '90 Minute IPA'})   \n",
    "\n",
    "# Try your own from the list above\n",
    "# recBeer({})"
   ]
  }
 ],
 "metadata": {
  "interpreter": {
   "hash": "6349d5530933d93cf3e21968e03519169ffb36bc867125237af3019451770c1e"
  },
  "kernelspec": {
   "display_name": "Python 3.8.12 ('base')",
   "language": "python",
   "name": "python3"
  },
  "language_info": {
   "codemirror_mode": {
    "name": "ipython",
    "version": 3
   },
   "file_extension": ".py",
   "mimetype": "text/x-python",
   "name": "python",
   "nbconvert_exporter": "python",
   "pygments_lexer": "ipython3",
   "version": "3.8.12"
  },
  "orig_nbformat": 4
 },
 "nbformat": 4,
 "nbformat_minor": 2
}
